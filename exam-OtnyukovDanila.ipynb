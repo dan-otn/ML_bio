{
 "cells": [
  {
   "cell_type": "markdown",
   "metadata": {},
   "source": [
    "Typeset the following equation in the markdown cell: \\begin{eqnarray} 2^{n} = C_{n}^{0} + C_{n}^{1} + \\ldots + C_{n}^{n-1} + C_{n}^{n}\\end{eqnarray}"
   ]
  },
  {
   "cell_type": "markdown",
   "metadata": {},
   "source": [
    "Typeset the following matrix in the markdown cell: \n",
    "\\\\(\\left(\\begin{matrix}\\ 1 & 2 \\\\ 3 & 4\\end{matrix}\\right)\\\\)"
   ]
  },
  {
   "cell_type": "code",
   "execution_count": 4,
   "metadata": {},
   "outputs": [],
   "source": [
    "import networkx as nx\n",
    "import sympy\n",
    "import itertools\n",
    "import matplotlib.pyplot as plt"
   ]
  },
  {
   "cell_type": "markdown",
   "metadata": {},
   "source": [
    "### 6\n",
    "Prove (e.g. by induction on the number of vertices) that the number of leaves in a tree can be no fewer than the number of vertices of degree >2.\n",
    "\n",
    "Consider a random vertex of a tree \n",
    "At worst case, this one has 2 neighbors(3 and more reinforce inequality), and at this step we have at least 2 leaves.\n",
    "When we consider n's verticies, we have \n",
    " \\begin{eqnarray} 2+2^2+ \\ldots +2^{n-1} \\end{eqnarray} leaves.\n",
    " So we have find limit of ratio of number of nodes with degree > 2 to number of leaves:\n",
    " $$\\lim_{x\\to\\infty} \\frac{2^n}{2+2^2+ \\ldots +2^{n-1}}$$.\n",
    " it's equals 1. Q.E.D."
   ]
  },
  {
   "cell_type": "code",
   "execution_count": 63,
   "metadata": {},
   "outputs": [
    {
     "data": {
      "text/plain": [
       "3432"
      ]
     },
     "execution_count": 63,
     "metadata": {},
     "output_type": "execute_result"
    }
   ],
   "source": [
    "#7\n",
    "#Use combinations function of the itertools module and the built-in len function of Python to calculate \n",
    "#the number of five-element subsets of the set 1,2,…,20 that do not have more than one prime number in them\n",
    "\n",
    "len({i for i in itertools.combinations((range(1,21)),5) if len(set(i) & {1,2,3,5,7,11,13,17,19} ) < 2})"
   ]
  },
  {
   "cell_type": "code",
   "execution_count": 149,
   "metadata": {},
   "outputs": [
    {
     "data": {
      "text/plain": [
       "44007"
      ]
     },
     "execution_count": 149,
     "metadata": {},
     "output_type": "execute_result"
    }
   ],
   "source": [
    "#8\n",
    "#Use product function of the itertools module and the built-in len function of Python to calculate \n",
    "#the number of strings of length 10 in alphabet A,B,C that do not have a substring “ABA”. in them\n",
    "\n",
    "len([ k for k in   ({j for j in itertools.product(*list([(\"abc\") for i in range(10)]))} ) if \"'a', 'b', 'a'\" not in str(k)])"
   ]
  },
  {
   "cell_type": "code",
   "execution_count": null,
   "metadata": {},
   "outputs": [],
   "source": []
  }
 ],
 "metadata": {
  "kernelspec": {
   "display_name": "Python 3",
   "language": "python",
   "name": "python3"
  },
  "language_info": {
   "codemirror_mode": {
    "name": "ipython",
    "version": 3
   },
   "file_extension": ".py",
   "mimetype": "text/x-python",
   "name": "python",
   "nbconvert_exporter": "python",
   "pygments_lexer": "ipython3",
   "version": "3.7.4"
  }
 },
 "nbformat": 4,
 "nbformat_minor": 2
}
